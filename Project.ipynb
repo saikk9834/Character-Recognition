{
  "nbformat": 4,
  "nbformat_minor": 0,
  "metadata": {
    "colab": {
      "provenance": []
    },
    "kernelspec": {
      "name": "python3",
      "display_name": "Python 3"
    },
    "language_info": {
      "name": "python"
    }
  },
  "cells": [
    {
      "cell_type": "code",
      "metadata": {
        "colab": {
          "base_uri": "https://localhost:8080/",
          "height": 229
        },
        "id": "iX6ElhcJkybE",
        "outputId": "db34e16e-689b-4549-843f-deec32e12317"
      },
      "source": [
        "\n",
        "# importing libraries\n",
        "import numpy as np\n",
        "import matplotlib.pyplot as plt\n",
        "import tensorflow.compat.v1 as tf\n",
        "tf.disable_v2_behavior()\n",
        "\n",
        "learn = tf.contrib.learn\n",
        "tf.logging.set_verbosity(tf.logging.ERROR)\\\n",
        "\n",
        "# importing dataset using MNIST\n",
        "# this is how mnist is used mnist contain test and train dataset\n",
        "mnist = learn.datasets.load_dataset('mnist')\n",
        "data = mnist.train.images\n",
        "labels = np.asarray(mnist.train.labels, dtype = np.int32)\n",
        "test_data = mnist.test.images\n",
        "test_labels = np.asarray(mnist.test.labels, dtype = np.int32)\n",
        "\n",
        "max_examples = 10000\n",
        "data = data[:max_examples]\n",
        "labels = labels[:max_examples]\n",
        "\n",
        "# displaying dataset using Matplotlib\n",
        "def display(i):\n",
        "    img = test_data[i]\n",
        "    plt.title('label : {}'.format(test_labels[i]))\n",
        "    plt.imshow(img.reshape((28, 28)))\n",
        "\n",
        "# img in tf is 28 by 28 px\n",
        "# fitting linear classifier\n",
        "feature_columns = learn.infer_real_valued_columns_from_input(data)\n",
        "classifier = learn.LinearClassifier(n_classes = 10,\n",
        "                                    feature_columns = feature_columns)\n",
        "classifier.fit(data, labels, batch_size = 100, steps = 1000)\n",
        "\n",
        "# Evaluate accuracy\n",
        "classifier.evaluate(test_data, test_labels)\n",
        "print(classifier.evaluate(test_data, test_labels)[\"accuracy\"])\n",
        "\n",
        "prediction = classifier.predict(np.array([test_data[0]],\n",
        "                                         dtype=float),\n",
        "                                         as_iterable=False)\n",
        "print(\"prediction : {}, label : {}\".format(prediction,\n",
        "      test_labels[0]) )\n",
        "\n",
        "if prediction == test_labels[0]:\n",
        "     display(0)"
      ],
      "execution_count": null,
      "outputs": [
        {
          "output_type": "error",
          "ename": "AttributeError",
          "evalue": "ignored",
          "traceback": [
            "\u001b[0;31m---------------------------------------------------------------------------\u001b[0m",
            "\u001b[0;31mAttributeError\u001b[0m                            Traceback (most recent call last)",
            "\u001b[0;32m<ipython-input-3-29b1077923fc>\u001b[0m in \u001b[0;36m<module>\u001b[0;34m()\u001b[0m\n\u001b[1;32m      6\u001b[0m \u001b[0mtf\u001b[0m\u001b[0;34m.\u001b[0m\u001b[0mdisable_v2_behavior\u001b[0m\u001b[0;34m(\u001b[0m\u001b[0;34m)\u001b[0m\u001b[0;34m\u001b[0m\u001b[0;34m\u001b[0m\u001b[0m\n\u001b[1;32m      7\u001b[0m \u001b[0;34m\u001b[0m\u001b[0m\n\u001b[0;32m----> 8\u001b[0;31m \u001b[0mlearn\u001b[0m \u001b[0;34m=\u001b[0m \u001b[0mtf\u001b[0m\u001b[0;34m.\u001b[0m\u001b[0mcontrib\u001b[0m\u001b[0;34m.\u001b[0m\u001b[0mlearn\u001b[0m\u001b[0;34m\u001b[0m\u001b[0;34m\u001b[0m\u001b[0m\n\u001b[0m\u001b[1;32m      9\u001b[0m \u001b[0mtf\u001b[0m\u001b[0;34m.\u001b[0m\u001b[0mlogging\u001b[0m\u001b[0;34m.\u001b[0m\u001b[0mset_verbosity\u001b[0m\u001b[0;34m(\u001b[0m\u001b[0mtf\u001b[0m\u001b[0;34m.\u001b[0m\u001b[0mlogging\u001b[0m\u001b[0;34m.\u001b[0m\u001b[0mERROR\u001b[0m\u001b[0;34m)\u001b[0m\u001b[0;34m\u001b[0m\u001b[0;34m\u001b[0m\u001b[0m\n\u001b[1;32m     10\u001b[0m \u001b[0;31m# importing dataset using MNIST\u001b[0m\u001b[0;34m\u001b[0m\u001b[0;34m\u001b[0m\u001b[0;34m\u001b[0m\u001b[0m\n",
            "\u001b[0;31mAttributeError\u001b[0m: module 'tensorflow.compat.v1' has no attribute 'contrib'"
          ]
        }
      ]
    },
    {
      "cell_type": "code",
      "metadata": {
        "colab": {
          "base_uri": "https://localhost:8080/"
        },
        "id": "PkuTO3lgk1IZ",
        "outputId": "648b331f-ac1f-4456-ec03-90847e28e0bf"
      },
      "source": [
        "import tensorflow as tf\n",
        "import numpy as np\n",
        "import matplotlib.pyplot as plt\n",
        "\n",
        "mnist = tf.keras.datasets.mnist\n",
        "(x_train,y_train) , (x_test,y_test) = mnist.load_data()\n",
        "\n",
        "x_train = tf.keras.utils.normalize(x_train,axis=1)\n",
        "x_test = tf.keras.utils.normalize(x_test,axis=1)"
      ],
      "execution_count": null,
      "outputs": [
        {
          "output_type": "stream",
          "name": "stdout",
          "text": [
            "Downloading data from https://storage.googleapis.com/tensorflow/tf-keras-datasets/mnist.npz\n",
            "11493376/11490434 [==============================] - 0s 0us/step\n",
            "11501568/11490434 [==============================] - 0s 0us/step\n"
          ]
        }
      ]
    },
    {
      "cell_type": "code",
      "metadata": {
        "colab": {
          "base_uri": "https://localhost:8080/",
          "height": 265
        },
        "id": "5d6nyjoYoE_n",
        "outputId": "190e098e-20e5-491a-be91-38fcded865d5"
      },
      "source": [
        "def draw(n):\n",
        "    plt.imshow(n,cmap=plt.cm.binary)\n",
        "    plt.show()\n",
        "\n",
        "draw(x_train[0])"
      ],
      "execution_count": null,
      "outputs": [
        {
          "output_type": "display_data",
          "data": {
            "image/png": "[encoded data removed]",
            "text/plain": [
              "<Figure size 432x288 with 1 Axes>"
            ]
          },
          "metadata": {
            "needs_background": "light"
          }
        }
      ]
    },
    {
      "cell_type": "code",
      "metadata": {
        "colab": {
          "base_uri": "https://localhost:8080/"
        },
        "id": "0XvLfhIqoIaf",
        "outputId": "55665434-94ea-4e29-a08d-7fb0e7b25241"
      },
      "source": [
        "model = tf.keras.models.Sequential()\n",
        "\n",
        "model.add(tf.keras.layers.Flatten(input_shape=(28, 28)))\n",
        "#reshape\n",
        "\n",
        "model.add(tf.keras.layers.Dense(128,activation=tf.nn.relu))\n",
        "model.add(tf.keras.layers.Dense(128,activation=tf.nn.relu))\n",
        "model.add(tf.keras.layers.Dense(10,activation=tf.nn.softmax))\n",
        "\n",
        "model.compile(optimizer='adam',\n",
        "              loss='sparse_categorical_crossentropy',\n",
        "              metrics=['accuracy']\n",
        "              )\n",
        "model.fit(x_train,y_train,epochs=3)"
      ],
      "execution_count": null,
      "outputs": [
        {
          "output_type": "stream",
          "name": "stdout",
          "text": [
            "Train on 60000 samples\n",
            "Epoch 1/3\n",
            "60000/60000 [==============================] - 5s 81us/sample - loss: 0.2557 - acc: 0.9251\n",
            "Epoch 2/3\n",
            "60000/60000 [==============================] - 5s 76us/sample - loss: 0.1018 - acc: 0.9688\n",
            "Epoch 3/3\n",
            "60000/60000 [==============================] - 5s 75us/sample - loss: 0.0696 - acc: 0.9788\n"
          ]
        },
        {
          "output_type": "execute_result",
          "data": {
            "text/plain": [
              "<keras.callbacks.History at 0x7fa695f13f90>"
            ]
          },
          "metadata": {},
          "execution_count": 6
        }
      ]
    },
    {
      "cell_type": "code",
      "metadata": {
        "colab": {
          "base_uri": "https://localhost:8080/",
          "height": 298
        },
        "id": "mE4tOuCPoLGY",
        "outputId": "6f1ef3e3-8c8c-45e0-8cb0-55f55a9bf864"
      },
      "source": [
        "predictions=model.predict([x_test])\n",
        "print('label -> ',y_test[56])\n",
        "print('prediction -> ',np.argmax(predictions[56]))\n",
        "\n",
        "draw(x_test[56])"
      ],
      "execution_count": null,
      "outputs": [
        {
          "output_type": "stream",
          "name": "stdout",
          "text": [
            "label ->  4\n",
            "prediction ->  4\n"
          ]
        },
        {
          "output_type": "display_data",
          "data": {
            "image/png": "[encoded data removed]",
            "text/plain": [
              "<Figure size 432x288 with 1 Axes>"
            ]
          },
          "metadata": {
            "needs_background": "light"
          }
        }
      ]
    },
    {
      "cell_type": "code",
      "metadata": {
        "id": "MX7ni14OoOcn"
      },
      "source": [
        "#saving the model\n",
        "# .h5 or .model can be used\n",
        "\n",
        "model.save('epic_num_reader.h5')"
      ],
      "execution_count": null,
      "outputs": []
    },
    {
      "cell_type": "code",
      "metadata": {
        "colab": {
          "base_uri": "https://localhost:8080/"
        },
        "id": "AyZccRO6oPiC",
        "outputId": "9a167719-18df-470a-a3a0-4938075e95fb"
      },
      "source": [
        "new_model = tf.keras.models.load_model('epic_num_reader.h5')"
      ],
      "execution_count": null,
      "outputs": [
        {
          "output_type": "stream",
          "name": "stdout",
          "text": [
            "WARNING:tensorflow:From /usr/local/lib/python3.7/dist-packages/tensorflow/python/ops/init_ops.py:97: calling GlorotUniform.__init__ (from tensorflow.python.ops.init_ops) with dtype is deprecated and will be removed in a future version.\n",
            "Instructions for updating:\n",
            "Call initializer instance with the dtype argument instead of passing it to the constructor\n",
            "WARNING:tensorflow:From /usr/local/lib/python3.7/dist-packages/tensorflow/python/ops/init_ops.py:97: calling Zeros.__init__ (from tensorflow.python.ops.init_ops) with dtype is deprecated and will be removed in a future version.\n",
            "Instructions for updating:\n",
            "Call initializer instance with the dtype argument instead of passing it to the constructor\n"
          ]
        }
      ]
    },
    {
      "cell_type": "code",
      "metadata": {
        "colab": {
          "base_uri": "https://localhost:8080/",
          "height": 352
        },
        "id": "kUxt_kk3oSah",
        "outputId": "634cf131-a86d-4267-d708-9be3de4aa6af"
      },
      "source": [
        "predictions=new_model.predict([x_test])\n",
        "\n",
        "\n",
        "print('label -> ',y_test[2])\n",
        "print('prediction -> ',np.argmax(predictions[2]))\n",
        "\n",
        "draw(x_test[2])"
      ],
      "execution_count": null,
      "outputs": [
        {
          "output_type": "stream",
          "name": "stderr",
          "text": [
            "/usr/local/lib/python3.7/dist-packages/keras/engine/training_v1.py:2079: UserWarning: `Model.state_updates` will be removed in a future version. This property should not be used in TensorFlow 2.0, as `updates` are applied automatically.\n",
            "  updates=self.state_updates,\n"
          ]
        },
        {
          "output_type": "stream",
          "name": "stdout",
          "text": [
            "label ->  1\n",
            "prediction ->  1\n"
          ]
        },
        {
          "output_type": "display_data",
          "data": {
            "image/png": "[encoded data removed]",
            "text/plain": [
              "<Figure size 432x288 with 1 Axes>"
            ]
          },
          "metadata": {
            "needs_background": "light"
          }
        }
      ]
    },
    {
      "cell_type": "code",
      "metadata": {
        "id": "UqLY5e_jofJy"
      },
      "source": [],
      "execution_count": null,
      "outputs": []
    }
  ]
}